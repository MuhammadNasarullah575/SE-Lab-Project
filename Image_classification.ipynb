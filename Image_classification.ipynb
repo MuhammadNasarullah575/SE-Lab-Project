{
 "cells": [
  {
   "cell_type": "code",
   "execution_count": null,
   "metadata": {},
   "outputs": [],
   "source": [
    "#import necessary library\n",
    "import os"
   ]
  },
  {
   "cell_type": "code",
   "execution_count": null,
   "metadata": {},
   "outputs": [],
   "source": [
    "#Set image directory path\n",
    "image_path = '/content/drive/MyDrive/Train'\n",
    "os.chdir(image_path)"
   ]
  },
  {
   "cell_type": "code",
   "execution_count": null,
   "metadata": {},
   "outputs": [],
   "source": [
    "path_list = []\n",
    "# os.walk('.') means current directory\n",
    "for current_dir,dirs,files in os.walk('.'):\n",
    "  for f in files:\n",
    "    if f.endswith('.jpg'):\n",
    "      # prepare file path to save into train,txt\n",
    "      file_loc = image_path + '/' + f\n",
    "      # append the path data into path_list new line character \\n is used to write new content\n",
    "      path_list.append(file_loc + '\\n')"
   ]
  },
  {
   "cell_type": "code",
   "execution_count": null,
   "metadata": {},
   "outputs": [],
   "source": [
    "#Divide the data into 80:20 ratio. Get 20% of data from path_list to write into\n",
    "# the test.txt file\n",
    "path_list_test = path_list[:int(len(path_list)*0.20)]\n",
    "# Delete the same 20% record from the path_list as that 20% data is in path_list_test now\n",
    "path_list = path_list[int(len(path_list)*0.20):]"
   ]
  },
  {
   "cell_type": "code",
   "execution_count": null,
   "metadata": {},
   "outputs": [],
   "source": [
    "# Create train.txt file and write 80% data inside it\n",
    "with open('train.txt','w') as train:\n",
    "  for i in path_list:\n",
    "    # write the current path at the end of the file\n",
    "    train.write(i)\n",
    "    # Create test.txt file and write 20% data inside it\n",
    "    with open('test.txt','w') as test:\n",
    "      for i in path_list_test:\n",
    "        test.write(i)"
   ]
  },
  {
   "cell_type": "code",
   "execution_count": null,
   "metadata": {},
   "outputs": [],
   "source": [
    "# Initialize the counter\n",
    "i =0\n",
    "# Create classes.names files by reading content from existing clases.txt file\n",
    "with open(image_path + '/' + 'classes.names','w') as cls, \\\n",
    "open(image_path + '/' + 'classes.txt','r') as text:\n",
    "# Iterate through individual lines in classes.txt files and write them into classes.names\n",
    "# file\n",
    " for l in text:\n",
    "  cls.write(l)\n",
    "# increasing counter\n",
    "i += 1"
   ]
  },
  {
   "cell_type": "code",
   "execution_count": null,
   "metadata": {},
   "outputs": [],
   "source": [
    "# Create image_data.data\n",
    "with open(image_path + '/' + 'image_data.data','w') as data:\n",
    "  # Write number of classes\n",
    "  data.write('classes = ' + str(i) + '\\n')\n",
    "  # write fully qualified path of the train.txt file\n",
    "  data.write('train = ' + image_path + '/' + 'train.txt' + '\\n')\n",
    "  # write fully qualified path of the test.txt file\n",
    "  data.write('valid = ' + image_path + '/' + 'test.txt' + '\\n')\n",
    "  # write fully qualified path of the classes.names file\n",
    "  data.write('names = ' + image_path + '/' + 'classes.names' + '\\n')\n",
    "  # Specify folder path to save trained model weights\n",
    "  data.write('backup = backup')"
   ]
  },
  {
   "cell_type": "code",
   "execution_count": null,
   "metadata": {},
   "outputs": [],
   "source": [
    "# Set Image directory path\n",
    "path = '/content/drive/MyDrive/Train'\n",
    "os.chdir(path)"
   ]
  },
  {
   "cell_type": "code",
   "execution_count": null,
   "metadata": {},
   "outputs": [],
   "source": [
    "# Clone Darknet Repo\n",
    "!git clone https://github.com/AlexeyAB/darknet"
   ]
  },
  {
   "cell_type": "code",
   "execution_count": null,
   "metadata": {},
   "outputs": [],
   "source": [
    "# Verify CUDA version\n",
    "!/usr/local/cuda/bin/nvcc --version"
   ]
  },
  {
   "cell_type": "code",
   "execution_count": null,
   "metadata": {},
   "outputs": [],
   "source": [
    "# Compile darknet framework in order to use related files for training object detection model\n",
    "os.chdir('/content/drive/MyDrive/Train/darknet')\n",
    "!make"
   ]
  },
  {
   "cell_type": "code",
   "execution_count": null,
   "metadata": {},
   "outputs": [],
   "source": [
    "#verify installation\n",
    "!./darknet"
   ]
  },
  {
   "cell_type": "code",
   "execution_count": null,
   "metadata": {},
   "outputs": [],
   "source": [
    "# Download yolo_v4 weights\n",
    "!wget https://github.com/AlexeyAB/darknet/releases/download/darknet_yolo_v3_optimal/yolov4.weights"
   ]
  },
  {
   "cell_type": "code",
   "execution_count": null,
   "metadata": {},
   "outputs": [],
   "source": [
    "#Run object detection on test image reffered by below\n",
    "!./darknet detector test cfg/coco.data cfg/yolov4.cfg yolov4.weights data/person.jpg"
   ]
  },
  {
   "cell_type": "code",
   "execution_count": null,
   "metadata": {},
   "outputs": [],
   "source": [
    "import cv2\n",
    "import matplotlib.pyplot as plt\n",
    "%matplotlib inline\n",
    "image = cv2.imread('predictions.jpg')\n",
    "fig = plt.gcf()\n",
    "fig.set_size_inches(12,14)\n",
    "plt.imshow(image)"
   ]
  }
 ],
 "metadata": {
  "language_info": {
   "name": "python"
  }
 },
 "nbformat": 4,
 "nbformat_minor": 2
}
